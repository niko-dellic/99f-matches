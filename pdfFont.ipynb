{
 "cells": [
  {
   "cell_type": "code",
   "execution_count": 12,
   "metadata": {},
   "outputs": [
    {
     "ename": "DeprecationError",
     "evalue": "addPage is deprecated and was removed in PyPDF2 3.0.0. Use add_page instead.",
     "output_type": "error",
     "traceback": [
      "\u001b[1;31m---------------------------------------------------------------------------\u001b[0m",
      "\u001b[1;31mDeprecationError\u001b[0m                          Traceback (most recent call last)",
      "\u001b[1;32mc:\\Users\\NikoMcGlashan\\Documents\\GitHub\\99f-matches\\pdfFont.ipynb Cell 1\u001b[0m line \u001b[0;36m4\n\u001b[0;32m     <a href='vscode-notebook-cell:/c%3A/Users/NikoMcGlashan/Documents/GitHub/99f-matches/pdfFont.ipynb#W0sZmlsZQ%3D%3D?line=43'>44</a>\u001b[0m     c\u001b[39m.\u001b[39mdrawString(\u001b[39m100\u001b[39m, \u001b[39m700\u001b[39m, text_content)  \u001b[39m# Adjust the position as needed\u001b[39;00m\n\u001b[0;32m     <a href='vscode-notebook-cell:/c%3A/Users/NikoMcGlashan/Documents/GitHub/99f-matches/pdfFont.ipynb#W0sZmlsZQ%3D%3D?line=45'>46</a>\u001b[0m     \u001b[39m# Add the modified page to the new PDF\u001b[39;00m\n\u001b[1;32m---> <a href='vscode-notebook-cell:/c%3A/Users/NikoMcGlashan/Documents/GitHub/99f-matches/pdfFont.ipynb#W0sZmlsZQ%3D%3D?line=46'>47</a>\u001b[0m     output_pdf\u001b[39m.\u001b[39;49maddPage(page)\n\u001b[0;32m     <a href='vscode-notebook-cell:/c%3A/Users/NikoMcGlashan/Documents/GitHub/99f-matches/pdfFont.ipynb#W0sZmlsZQ%3D%3D?line=48'>49</a>\u001b[0m \u001b[39m# Save the page with the custom font as a new PDF\u001b[39;00m\n\u001b[0;32m     <a href='vscode-notebook-cell:/c%3A/Users/NikoMcGlashan/Documents/GitHub/99f-matches/pdfFont.ipynb#W0sZmlsZQ%3D%3D?line=49'>50</a>\u001b[0m \u001b[39mwith\u001b[39;00m \u001b[39mopen\u001b[39m(output_pdf_path, \u001b[39m\"\u001b[39m\u001b[39mwb\u001b[39m\u001b[39m\"\u001b[39m) \u001b[39mas\u001b[39;00m f:\n",
      "File \u001b[1;32mc:\\Users\\NikoMcGlashan\\AppData\\Local\\Programs\\Python\\Python311\\Lib\\site-packages\\PyPDF2\\_writer.py:333\u001b[0m, in \u001b[0;36mPdfWriter.addPage\u001b[1;34m(self, page, excluded_keys)\u001b[0m\n\u001b[0;32m    323\u001b[0m \u001b[39mdef\u001b[39;00m \u001b[39maddPage\u001b[39m(\n\u001b[0;32m    324\u001b[0m     \u001b[39mself\u001b[39m,\n\u001b[0;32m    325\u001b[0m     page: PageObject,\n\u001b[0;32m    326\u001b[0m     excluded_keys: Iterable[\u001b[39mstr\u001b[39m] \u001b[39m=\u001b[39m (),\n\u001b[0;32m    327\u001b[0m ) \u001b[39m-\u001b[39m\u001b[39m>\u001b[39m PageObject:  \u001b[39m# pragma: no cover\u001b[39;00m\n\u001b[0;32m    328\u001b[0m \u001b[39m    \u001b[39m\u001b[39m\"\"\"\u001b[39;00m\n\u001b[0;32m    329\u001b[0m \u001b[39m    .. deprecated:: 1.28.0\u001b[39;00m\n\u001b[0;32m    330\u001b[0m \n\u001b[0;32m    331\u001b[0m \u001b[39m        Use :meth:`add_page` instead.\u001b[39;00m\n\u001b[0;32m    332\u001b[0m \u001b[39m    \"\"\"\u001b[39;00m\n\u001b[1;32m--> 333\u001b[0m     deprecation_with_replacement(\u001b[39m\"\u001b[39;49m\u001b[39maddPage\u001b[39;49m\u001b[39m\"\u001b[39;49m, \u001b[39m\"\u001b[39;49m\u001b[39madd_page\u001b[39;49m\u001b[39m\"\u001b[39;49m, \u001b[39m\"\u001b[39;49m\u001b[39m3.0.0\u001b[39;49m\u001b[39m\"\u001b[39;49m)\n\u001b[0;32m    334\u001b[0m     \u001b[39mreturn\u001b[39;00m \u001b[39mself\u001b[39m\u001b[39m.\u001b[39madd_page(page, excluded_keys)\n",
      "File \u001b[1;32mc:\\Users\\NikoMcGlashan\\AppData\\Local\\Programs\\Python\\Python311\\Lib\\site-packages\\PyPDF2\\_utils.py:369\u001b[0m, in \u001b[0;36mdeprecation_with_replacement\u001b[1;34m(old_name, new_name, removed_in)\u001b[0m\n\u001b[0;32m    363\u001b[0m \u001b[39mdef\u001b[39;00m \u001b[39mdeprecation_with_replacement\u001b[39m(\n\u001b[0;32m    364\u001b[0m     old_name: \u001b[39mstr\u001b[39m, new_name: \u001b[39mstr\u001b[39m, removed_in: \u001b[39mstr\u001b[39m \u001b[39m=\u001b[39m \u001b[39m\"\u001b[39m\u001b[39m3.0.0\u001b[39m\u001b[39m\"\u001b[39m\n\u001b[0;32m    365\u001b[0m ) \u001b[39m-\u001b[39m\u001b[39m>\u001b[39m \u001b[39mNone\u001b[39;00m:\n\u001b[0;32m    366\u001b[0m \u001b[39m    \u001b[39m\u001b[39m\"\"\"\u001b[39;00m\n\u001b[0;32m    367\u001b[0m \u001b[39m    Raise an exception that a feature was already removed, but has a replacement.\u001b[39;00m\n\u001b[0;32m    368\u001b[0m \u001b[39m    \"\"\"\u001b[39;00m\n\u001b[1;32m--> 369\u001b[0m     deprecation(DEPR_MSG_HAPPENED\u001b[39m.\u001b[39;49mformat(old_name, removed_in, new_name))\n",
      "File \u001b[1;32mc:\\Users\\NikoMcGlashan\\AppData\\Local\\Programs\\Python\\Python311\\Lib\\site-packages\\PyPDF2\\_utils.py:351\u001b[0m, in \u001b[0;36mdeprecation\u001b[1;34m(msg)\u001b[0m\n\u001b[0;32m    350\u001b[0m \u001b[39mdef\u001b[39;00m \u001b[39mdeprecation\u001b[39m(msg: \u001b[39mstr\u001b[39m) \u001b[39m-\u001b[39m\u001b[39m>\u001b[39m \u001b[39mNone\u001b[39;00m:\n\u001b[1;32m--> 351\u001b[0m     \u001b[39mraise\u001b[39;00m DeprecationError(msg)\n",
      "\u001b[1;31mDeprecationError\u001b[0m: addPage is deprecated and was removed in PyPDF2 3.0.0. Use add_page instead."
     ]
    }
   ],
   "source": [
    "import os\n",
    "from reportlab.lib.pagesizes import letter\n",
    "from reportlab.lib import fonts\n",
    "from reportlab.pdfgen import canvas\n",
    "from PyPDF2 import PdfReader, PdfWriter\n",
    "\n",
    "# Define the paths\n",
    "pdf_directory = \"./output/pdf/\"  # Path to the PDF directory\n",
    "output_directory = \"./output/img/\"  # Path to the output directory\n",
    "font_path = \"./fonts/michroma.ttf\"  # Path to your custom TTF font file\n",
    "\n",
    "# Create the output directory if it doesn't exist\n",
    "os.makedirs(output_directory, exist_ok=True)\n",
    "\n",
    "# Define the new font for the PDF\n",
    "font_name = \"michroma\"\n",
    "font_size = 18\n",
    "\n",
    "# Create a PDF canvas with ReportLab and set the font\n",
    "output_pdf_path = os.path.join(output_directory, \"converted.pdf\")\n",
    "\n",
    "c = canvas.Canvas(output_pdf_path, pagesize=letter)\n",
    "c.setFont(font_name, font_size)\n",
    "\n",
    "# Iterate through the PDF files in the directory\n",
    "for pdf_file in os.listdir(pdf_directory):\n",
    "    if pdf_file.endswith(\".pdf\"):\n",
    "        pdf_path = os.path.join(pdf_directory, pdf_file)\n",
    "\n",
    "        # Open the original PDF using PdfReader\n",
    "        input_pdf = PdfReader(open(pdf_path, \"rb\"))\n",
    "\n",
    "        # Create a new PDF for each page\n",
    "        output_pdf = PdfWriter()\n",
    "\n",
    "        # Create a new page and draw the text with the custom font\n",
    "        for page_num in range(len(input_pdf.pages)):\n",
    "            page = input_pdf.pages[page_num]\n",
    "            text_content = page.extract_text()\n",
    "\n",
    "            # Draw the text with the custom font\n",
    "            c.showPage()\n",
    "            c.setFont(font_name, font_size)\n",
    "            c.drawString(100, 700, text_content)  # Adjust the position as needed\n",
    "\n",
    "            # Add the modified page to the new PDF\n",
    "            output_pdf.addPage(page)\n",
    "\n",
    "        # Save the page with the custom font as a new PDF\n",
    "        with open(output_pdf_path, \"wb\") as f:\n",
    "            output_pdf.write(f)\n",
    "\n",
    "# Close the original PDF file\n",
    "c.save()\n",
    "\n",
    "print(f\"PDFs with custom font saved at {output_pdf_path}\")\n"
   ]
  }
 ],
 "metadata": {
  "kernelspec": {
   "display_name": "Python 3",
   "language": "python",
   "name": "python3"
  },
  "language_info": {
   "codemirror_mode": {
    "name": "ipython",
    "version": 3
   },
   "file_extension": ".py",
   "mimetype": "text/x-python",
   "name": "python",
   "nbconvert_exporter": "python",
   "pygments_lexer": "ipython3",
   "version": "3.11.5"
  }
 },
 "nbformat": 4,
 "nbformat_minor": 2
}
